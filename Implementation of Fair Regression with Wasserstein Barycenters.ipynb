{
 "cells": [
  {
   "cell_type": "markdown",
   "metadata": {},
   "source": [
    "# Implement of \"Fair Regression with Wasserstein Barycenters\""
   ]
  },
  {
   "cell_type": "code",
   "execution_count": null,
   "metadata": {},
   "outputs": [],
   "source": [
    "# train and test sensitive variable and prediction: Z_l(t), Y_l(t)\n",
    "Z_l = trainZ_list # for CRIME data, use trainZ_list[i] = trainX_list[i][:,96]\n",
    "Z_t = testZ_list # for CRIME data, use testZ_list[i] = testX_list[i][:,96]\n",
    "Y_l = Y_hat_list_l # for ANN results, use Y_hat_list_l_ANN instead\n",
    "Y_t = Y_hat_list_t # for ANN results, use Y_hat_list_t_ANN instead\n",
    "\n",
    "# function that finds the barycenter by matching the cumulative distribution functions of two marginal/conditional random variables\n",
    "def f_NIPS(Y_l, Y_t, Z_l, Z_t):\n",
    "    u = np.unique(Z_l)\n",
    "    nM = max([sum(Z_l==u[0]),sum(Z_l==u[1])])\n",
    "    iM = np.argmax([sum(Z_l==u[0]),sum(Z_l==u[1])])\n",
    "    nm = min([sum(Z_l==u[0]),sum(Z_l==u[1])])\n",
    "    im = np.argmin([sum(Z_l==u[0]),sum(Z_l==u[1])])\n",
    "    p = nm/len(Z_l)\n",
    "    q = 1-p\n",
    "    YF = np.zeros(len(Y_t))\n",
    "    for i in range(0,len(Y_t)):\n",
    "        print(i)\n",
    "        if Z_t[i] == u[im]:\n",
    "            dist_best = math.inf\n",
    "            for t in np.linspace(min(Y_l),max(Y_l),100):\n",
    "                tmp1 = sum(Y_l[Z_l==u[iM]] < t)/nM\n",
    "                tmp2 = sum(Y_l[Z_l==u[im]] < Y_t[i])/nm\n",
    "                dist = np.abs(tmp1-tmp2)\n",
    "                if dist_best > dist:\n",
    "                    dist_best = dist\n",
    "                    ts = t\n",
    "            YF[i] = p*Y_t[i]+q*ts\n",
    "        else:\n",
    "            dist_best = math.inf\n",
    "            for t in np.linspace(min(Y_l),max(Y_l),100):\n",
    "                tmp1 = sum(Y_l[Z_l==u[im]] < t)/nm\n",
    "                tmp2 = sum(Y_l[Z_l==u[iM]] < Y_t[i])/nM\n",
    "                dist = np.abs(tmp1-tmp2)\n",
    "                if dist_best > dist:\n",
    "                    dist_best = dist\n",
    "                    ts = t\n",
    "            YF[i] = q*Y_t[i]+p*ts\n",
    "    return YF\n",
    "\n",
    "# compute the predictions on the test sets via the post-processing approach\n",
    "Y_hat_chzhen_list = []\n",
    "time_chzhen_list = []\n",
    "\n",
    "for i in range(len(trainX_list)):\n",
    "    t = perf_counter()\n",
    "    Y_hat_chzhen_list.append(f_NIPS(Y_l[i], Y_t[i], Z_l[i], Z_t[i]))\n",
    "    time_chzhen_list.append(perf_counter() - t)\n",
    "    \n",
    "# compute MSE and KS\n",
    "MSE_chzhen_list = []\n",
    "KS_chzhen_list = []\n",
    "\n",
    "for i in range(len(trainX_list)):\n",
    "    MSE_chzhen_list.append(((testY_list[i] - Y_hat_chzhen_list[i])**2).mean(axis = 0))   # MSE\n",
    "    KS_result_chzhen = stats.ks_2samp(Y_hat_chzhen_list[i][Z_t[i] == 0], Y_hat_chzhen_list[i][Z_t[i] == 1]) # KS\n",
    "    KS_chzhen_list.append(KS_result_chzhen[0])"
   ]
  }
 ],
 "metadata": {
  "kernelspec": {
   "display_name": "Python 3",
   "language": "python",
   "name": "python3"
  },
  "language_info": {
   "codemirror_mode": {
    "name": "ipython",
    "version": 3
   },
   "file_extension": ".py",
   "mimetype": "text/x-python",
   "name": "python",
   "nbconvert_exporter": "python",
   "pygments_lexer": "ipython3",
   "version": "3.8.5"
  }
 },
 "nbformat": 4,
 "nbformat_minor": 4
}
